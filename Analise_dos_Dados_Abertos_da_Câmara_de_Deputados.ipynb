{
  "nbformat": 4,
  "nbformat_minor": 0,
  "metadata": {
    "colab": {
      "name": "Analise dos Dados Abertos da Câmara de Deputados",
      "version": "0.3.2",
      "provenance": [],
      "collapsed_sections": [],
      "include_colab_link": true
    },
    "kernelspec": {
      "name": "python3",
      "display_name": "Python 3"
    }
  },
  "cells": [
    {
      "cell_type": "markdown",
      "metadata": {
        "id": "view-in-github",
        "colab_type": "text"
      },
      "source": [
        "[View in Colaboratory](https://colab.research.google.com/github/henriquedavid/analiseCamaraDeputados/blob/master/Analise_dos_Dados_Abertos_da_C%C3%A2mara_de_Deputados.ipynb)"
      ]
    },
    {
      "metadata": {
        "id": "LAECnaH84ENq",
        "colab_type": "text"
      },
      "cell_type": "markdown",
      "source": [
        "Antes de continuar com o notebook execute a célula"
      ]
    },
    {
      "metadata": {
        "id": "LuO7my8L1ZUe",
        "colab_type": "code",
        "colab": {}
      },
      "cell_type": "code",
      "source": [
        "!wget https://github.com/Danhfg/Analise-dos-Dados-Abertos-da-C-mara-de-Deputados/raw/master/questions.py \n",
        "!python3 questions.py\n",
        "from questions import *"
      ],
      "execution_count": 0,
      "outputs": []
    },
    {
      "metadata": {
        "id": "ve_4kHRrzTfE",
        "colab_type": "text"
      },
      "cell_type": "markdown",
      "source": [
        "# 1. Introdução - EASY\n",
        "\n",
        "O ano de 2014 foi bastante importante para os brasileiros, pois foi ano  de eleições para os principais cargos da democracia, para presidente, deputados, senadores e governadores. Nas eleições no ano em questão, não havia a obrigatoriedade na prestação de contas de um candidato, regra que mudou em 2018, tornando-se obrigatório.\n",
        "\n",
        "Neste breve projeto, nós iremos analisar os dados da Câmara de Deputados Federais, as proposições de cada deputado durante o período de 4 anos (2015 - 2017), ou seja, os dados são atualizados até o fim do ano de 2018. Esses dados podem ser acessados pelo seguinte link: [Câmara dos Deputados Federais](https://dadosabertos.camara.leg.br/swagger/api.html#staticfile) \n",
        "\n",
        "No final deste notebook, você pode ter uma opção para o seu próximo voto em algum deputado, analisando qual foi aquele que realizou mais proposições durante o período.\n",
        "\n",
        "Caso esteja com dificuldades em solucionar alguma questão, nós criamos dois métodos para lhe ajudar, são estes o método **questão.hint()** e **questão.solution()** .  Descomente as seguintes células para experimentar:"
      ]
    },
    {
      "metadata": {
        "id": "F4-Mdkyaz3u8",
        "colab_type": "code",
        "colab": {}
      },
      "cell_type": "code",
      "source": [
        "#q1.hint()"
      ],
      "execution_count": 0,
      "outputs": []
    },
    {
      "metadata": {
        "id": "8s0lrFwbz7Jm",
        "colab_type": "code",
        "colab": {}
      },
      "cell_type": "code",
      "source": [
        "#q1.solution()"
      ],
      "execution_count": 0,
      "outputs": []
    },
    {
      "metadata": {
        "id": "Vjqf9qtnCN82",
        "colab_type": "text"
      },
      "cell_type": "markdown",
      "source": [
        "# 2. Leitura dos Dados - EASY\n",
        "\n",
        "<!-- O database que iremos utilizar será o fornecido pelo [Eliezer Bourchardt](https://www.kaggle.com/eliezerfb/candidatos-deputado-federal-e-estadual-2014). O qual realiza uma junção de todos os dados dos deputados que concorreram a Deputado Federal e Estadual. O arquivo está disponível em formato [CSV](https://www.kaggle.com/eliezerfb/candidatos-deputado-federal-e-estadual-2014#candidatos_deputados_2014_final.csv). \n",
        "\n",
        "Para utilizar os dados é necessário que instalemos a API do Kaggle, o qual basta executar o código abaixo:\n",
        "\n",
        "```!pip install kaggle```\n",
        "\n",
        "(basta copiar e colar na célula abaixo)-->\n",
        "\n",
        "Para realizar a leitura dos dados, devemos ir atrás de cada database, distribuídos por ano, já que a câmara não disponibiliza um database único com todo o período. Para facilitar o trabalho, o link de todos os dados que iremos trabalhar neste projeto está logo abaixo. Caso prefira, você pode baixar e realizar a leitura pelo arquivo salvo no seu computador.\n",
        "\n",
        "### Proposições:\n",
        "         * 2017: https://dadosabertos.camara.leg.br/arquivos/proposicoesAutores/csv/proposicoesAutores-2017.csv\n",
        "         * 2016: https://dadosabertos.camara.leg.br/arquivos/proposicoesAutores/csv/proposicoesAutores-2016.csv\n",
        "         * 2015: https://dadosabertos.camara.leg.br/arquivos/proposicoesAutores/csv/proposicoesAutores-2015.csv\n",
        "         \n",
        "O seu dever nesta seção é realizar a leitura dos dados dos links fornecidos acima. Um exemplo de resolução esperada de cada seção foi colocado no método questão.solution() de cada questão. \n",
        "\n",
        "A leitura de um arquivo utilizando o pandas pode ser feita da seguinte maneira: \n",
        "\n",
        "\n",
        "\n",
        "```import pandas as pd```\n",
        "\n",
        "```dado = pd.read_csv(\"nome_arquivo.csv\", sep=';', index_col='nome_coluna')```\n",
        "\n",
        "\n",
        "Dessa forma, estamos realizando a leitura utilizando o módulo pandas.  Já o nome do arquivo desejado é um arquivo na máquina (nome_arquivo.csv), com a separação configurada para ponto e vírgula (;) e desejamos como index a coluna chamada nome_coluna. E o arquivo será atribuído a uma variável chamada dado. Caso você, em vez de ter um arquivo no seu computador, tenha uma URL, então basta trocar \"nome_arquivo.csv\" para a url desejada.\n",
        "\n",
        "Com o arquivo já lido, podemos visualizar a tabela com o comando:\n",
        "\n",
        "``dado.head()``\n",
        "\n",
        "Note que quando executamos apenas dado.head(), mostraremos apenas as 5 primeiras linhas do arquivo, então caso seja necessária a visualização de mais linhas basta colocar a quantidade de linhas desejadas dentro dos parênteses.\n",
        "\n",
        "#### Exercício:\n",
        "\n",
        "-  Importe o módulo pandas e utilize o alias como pd.\n",
        "-  Leia cada ano utilizando o link de cada proposição (ou seja, serão 4 tabelas), então defina as tabelas lidas como **df_2017**, **df_2016** e **df_2015**. Para facilitar o trabalho defina como index a coluna **idProposicao** e meio de separação **;**.\n",
        "-  Imprima 4 linhas de cada tabela lida\n",
        "\n",
        "\n",
        "\n",
        "Caso não consiga resolver este exercício, descomente q2.solution() na célula à baixo."
      ]
    },
    {
      "metadata": {
        "id": "n-s3yWIwGe1t",
        "colab_type": "code",
        "colab": {}
      },
      "cell_type": "code",
      "source": [
        "# Importando os módulos\n",
        "import pandas as pd\n",
        "\n",
        "# Leia os databases por ano\n",
        "df_2017 = pd.read_csv('https://dadosabertos.camara.leg.br/arquivos/proposicoesAutores/csv/proposicoesAutores-2017.csv', sep=';', index_col='idProposicao')\n",
        "\n",
        "# Imprima as 4 primeiras linhas de cada tabela\n",
        "print(df_2017.head(4))\n"
      ],
      "execution_count": 0,
      "outputs": []
    },
    {
      "metadata": {
        "id": "5krVLC-Y-sWv",
        "colab_type": "code",
        "colab": {}
      },
      "cell_type": "code",
      "source": [
        "#q2.hint()\n",
        "#q2.solution()"
      ],
      "execution_count": 0,
      "outputs": []
    },
    {
      "metadata": {
        "id": "p7p2jBqpK0jb",
        "colab_type": "text"
      },
      "cell_type": "markdown",
      "source": [
        "Agora se atenha bastante aos nomes atribuídos às colunas de cada tabela. Não só neste, mas em qualquer exercício envolvendo pandas, saber interpretar exatamente a informação que cada coluna dá é essencial. Uma operação errada numa coluna pode retornar resultados inesperados.   \n",
        "Então, verifique com atenção as colunas das tabelas, pois elas serão importantes para analisarmos como podemos realizar um estudo sobre nossos dados a partir daqui.\n",
        "\n",
        "Nas tabelas, temos 10 colunas:\n",
        "- **idProposicao**:  identificador da proposição.\n",
        "- **uriProposicao**: link para a proposição.\n",
        "- **idAutor**: identificador do autor da proposição.\n",
        "- **uriAutor**: link para o perfil do autor da proposição.\n",
        "- **codTipoAutor**: código de identificação do tipo do autor da proposição.\n",
        "- **tipoAutor**: tipo de autor.\n",
        "- **nomeAutor**: autor da proposição.\n",
        "- **siglaPartidoAutor**: sigla partidária do autor.\n",
        "- **uriPartidoAutor**: link para o partido do autor.\n",
        "- **siglaUFAutor**: qual estado o autor representa.\n",
        "\n",
        "## 3. Analisando as tabelas - EASY\n",
        "\n",
        "Analisar bem uma tabela antes de começar a trabalhar nela  é notavelmente importante. Saber quantas linhas e colunas existem,  além do tipo que cada uma delas armazena é imprescindivel, pois só assim podemos realizar operações com as colunas de forma correta, sem que haja erros, como já foi abordado anteriormente.\n",
        "\n",
        "Verifiquemos qual o tamanho de cada tabela dada com relação ao número de linhas e colunas (linhas x colunas).\n",
        "\n",
        "#### Exercício:\n",
        "- Verifique quantas linhas e colunas há em cada tabela.\n",
        "- Imprima o tipo de cada coluna da tabela **df_2016**"
      ]
    },
    {
      "metadata": {
        "id": "1q275zfnPDhk",
        "colab_type": "code",
        "colab": {}
      },
      "cell_type": "code",
      "source": [
        "# Imprima a quantidade de linhas e colunas de cada dataset\n",
        "\n",
        "\n",
        "# Imprima como está organizado os tipos das colunas do dataset df_2016\n",
        "\n"
      ],
      "execution_count": 0,
      "outputs": []
    },
    {
      "metadata": {
        "id": "iHUqkja-kUx1",
        "colab_type": "code",
        "colab": {}
      },
      "cell_type": "code",
      "source": [
        "#q3.hint()\n",
        "#q3.solution()"
      ],
      "execution_count": 0,
      "outputs": []
    },
    {
      "metadata": {
        "id": "_5dWzvsyQFk6",
        "colab_type": "text"
      },
      "cell_type": "markdown",
      "source": [
        "## 4. Juntando todas as tabelas em apenas uma - MEDIUM\n",
        "\n",
        "Trabalhar com 4 (ou mais) tabelas dá bastante trabalho, principalmente porque, às vezes, precisamos verificar vários dados contidos em ambas  as tabelas e devemos realizar operações de soma e subtração externas, ou seja, utilizando calculadoras ou mais variáveis. Assim, a possibilidade de juntar várias tabelas em apenas uma seria algo muito útil se possível em análise de dados, pois pouparia trabalho e tempo que poderiam ser empregados em outra atividade. Mas sim, essa possibilidade realmente existe e é essencial para quem trabalha com dados de grande escala. \n",
        "\n",
        "#### Exercício:\n",
        "\n",
        "- Junte todas as tabelas em apenas uma chamada **df** (adicione 2015 à 2016 e posteriormente 2017 à 2015, 2016)."
      ]
    },
    {
      "metadata": {
        "id": "pY3w0oULQZxO",
        "colab_type": "code",
        "colab": {}
      },
      "cell_type": "code",
      "source": [
        "# Faça com que todas as tabelas sejam parte apenas da tabela df\n"
      ],
      "execution_count": 0,
      "outputs": []
    },
    {
      "metadata": {
        "id": "Kq9_bmnjIDGM",
        "colab_type": "code",
        "colab": {}
      },
      "cell_type": "code",
      "source": [
        "#q4.hint()\n",
        "#q4.solution()"
      ],
      "execution_count": 0,
      "outputs": []
    },
    {
      "metadata": {
        "id": "ooOdyHq00BUA",
        "colab_type": "text"
      },
      "cell_type": "markdown",
      "source": [
        "## 5. Filtrando os dados - MEDIUM\n",
        "\n",
        "Quando trabalhamos numa tabela, realizamos varios tipos de operações, mas todas as vezes que precisamos obter uma informação específica da tabela, precisamos filtrar nossa tabela de forma que possamos obter aquele dado, seja extraindo dados de uma linha, utilizando uma função ou método numa coluna, etc . \n",
        "Portanto, agora que temos apenas uma tabela com todos os dados que iremos trabalhar, siga para o exercício.\n",
        "\n",
        "#### Exercício: \n",
        "\n",
        "- Filtre os dados para uma variável **df_rn** de maneira que mostre apenas os deputados do Rio Grande do Norte (RN)."
      ]
    },
    {
      "metadata": {
        "id": "Czoz9vat028K",
        "colab_type": "code",
        "colab": {}
      },
      "cell_type": "code",
      "source": [
        "# Defina a variável df_rn para mostrar apenas os deputados do RN.\n"
      ],
      "execution_count": 0,
      "outputs": []
    },
    {
      "metadata": {
        "id": "ij8j9cyKaJsx",
        "colab_type": "code",
        "colab": {}
      },
      "cell_type": "code",
      "source": [
        "#q5.hint()\n",
        "#q5.solution()"
      ],
      "execution_count": 0,
      "outputs": []
    },
    {
      "metadata": {
        "id": "vRnWsHgu6Sm7",
        "colab_type": "text"
      },
      "cell_type": "markdown",
      "source": [
        "## 6. Calcular a quantidade de propostas por deputados - HARD\n",
        "\n",
        "Agora, na tabela df_rn, temos as informações acerca dos deputados do Rio Grande do Norte, porém você pode mudar o filtro para outro estado à sua escolha. Mas agora, nós queremos obter uma informação ainda mais específica no próximo exercício, no qual um método do pandas se destacaria na obtenção desse resultado. A utilização desse método simplificaria de forma significativa o seu trabalho. Siga para o exercício:\n",
        "\n",
        "#### Exercício:\n",
        "\n",
        "- Mostre a quantidade de proposições que cada deputado do RN apresentou, insira o resultado na variável **prop_number**."
      ]
    },
    {
      "metadata": {
        "id": "_RQX5IP16Rl7",
        "colab_type": "code",
        "colab": {}
      },
      "cell_type": "code",
      "source": [
        "# insira em prop_number a quantidade de proposições total de cada candidato\n"
      ],
      "execution_count": 0,
      "outputs": []
    },
    {
      "metadata": {
        "id": "HFXLcUy8aac1",
        "colab_type": "code",
        "colab": {}
      },
      "cell_type": "code",
      "source": [
        "#q6.hint()\n",
        "#q6.solution()"
      ],
      "execution_count": 0,
      "outputs": []
    },
    {
      "metadata": {
        "id": "mtCZT3xJDdt1",
        "colab_type": "text"
      },
      "cell_type": "markdown",
      "source": [
        "## 7. Representação na câmara - VERY HARD\n",
        "\n",
        "Trabalhar com porcentagem (estatística no geral) é algo que faz parte do cotidiano profissional de quem trabalha com análise de dados. Então, saber comparar dados específicos de um problema com  a totalidade dos dados necessários para resolver aquele problema é uma tarefa muito importante, pois um erro pode implicar na obtenção de um dado estatístico incorreto. Então tenha bastante atenção no próximo exercício.\n",
        "\n",
        "#### Exercício:\n",
        "\n",
        "- Pela quantidade de propostas que os deputados do RN realizaram, verifique qual a porcentagem do deputado com o maior número de propostas do estado considerando a quantidade total de propostas (de todos os deputados do Brasil) e adicione a variável **porcen_rn** e imprima o resultado. Assim como a representação (em porcentagem) do deputado com o maior número de proposta do Brasil, também considerando a quantidade total de propostas. Esse último resultado adicione à variável **porcen_br**."
      ]
    },
    {
      "metadata": {
        "id": "MgW535FKDdCw",
        "colab_type": "code",
        "colab": {}
      },
      "cell_type": "code",
      "source": [
        "# insira seu código abaixo\n"
      ],
      "execution_count": 0,
      "outputs": []
    },
    {
      "metadata": {
        "id": "pIp6WFTFasCA",
        "colab_type": "code",
        "colab": {}
      },
      "cell_type": "code",
      "source": [
        "#q7.hint()\n",
        "#q7.solution()"
      ],
      "execution_count": 0,
      "outputs": []
    },
    {
      "metadata": {
        "id": "WyjdIsUjF_u8",
        "colab_type": "text"
      },
      "cell_type": "markdown",
      "source": [
        "## 8. Estudando os dados - MEDIUM\n",
        "\n",
        "#### Exercício:\n",
        "\n",
        "- Analise qual a média de proposições por deputado (atribua o resultado para a variável **media_prop**), além disso responda: algum deputado do seu estado está acima da média?"
      ]
    },
    {
      "metadata": {
        "id": "_3KlTDu7F_LE",
        "colab_type": "code",
        "colab": {}
      },
      "cell_type": "code",
      "source": [
        "# insira seu código abaixo\n"
      ],
      "execution_count": 0,
      "outputs": []
    },
    {
      "metadata": {
        "id": "nqJDskolbNpO",
        "colab_type": "code",
        "colab": {}
      },
      "cell_type": "code",
      "source": [
        "#q8.hint()\n",
        "#q8.solution()"
      ],
      "execution_count": 0,
      "outputs": []
    },
    {
      "metadata": {
        "id": "45O3OKYzGxT7",
        "colab_type": "text"
      },
      "cell_type": "markdown",
      "source": [
        "## 9. Analisando a fundo os autores - HARD\n",
        "\n",
        "#### Exercício:\n",
        "\n",
        " - No nosso banco de dados temos vários tipos de autores de proposições, analisando os dados calculados acima, quem realizou a maior quantidade de proposições? Deputados ou os Órgãos do Poder Executivo? \n",
        "\n",
        " - Se desejável, calcule a quantidade de proposições de cada um dos tipos de autores."
      ]
    },
    {
      "metadata": {
        "id": "VYVhYCJVIBlP",
        "colab_type": "code",
        "colab": {}
      },
      "cell_type": "code",
      "source": [
        "# insira seu código abaixo\n"
      ],
      "execution_count": 0,
      "outputs": []
    },
    {
      "metadata": {
        "id": "_6NbUssfczih",
        "colab_type": "code",
        "colab": {}
      },
      "cell_type": "code",
      "source": [
        "#q9.hint()\n",
        "#q9.solution()"
      ],
      "execution_count": 0,
      "outputs": []
    },
    {
      "metadata": {
        "id": "EiGXgDj_IBKR",
        "colab_type": "text"
      },
      "cell_type": "markdown",
      "source": [
        "## 10. Estudando os partidos - MEDIUM\n",
        "\n",
        "#### Exercício:\n",
        "\n",
        "- Calcule quais são os 10 partidos com a maior quantidade de deputados na câmara dos deputados, salve o resultado em **max_partidos** e imprima o resultado."
      ]
    },
    {
      "metadata": {
        "id": "o31XeH8fIOph",
        "colab_type": "code",
        "colab": {}
      },
      "cell_type": "code",
      "source": [
        "# insira seu código abaixo\n"
      ],
      "execution_count": 0,
      "outputs": []
    },
    {
      "metadata": {
        "id": "ficr5K5fc5i4",
        "colab_type": "code",
        "colab": {}
      },
      "cell_type": "code",
      "source": [
        "#q10.hint()\n",
        "#q10.solution()"
      ],
      "execution_count": 0,
      "outputs": []
    }
  ]
}